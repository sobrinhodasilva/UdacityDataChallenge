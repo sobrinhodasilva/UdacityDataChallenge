{
 "cells": [
  {
   "cell_type": "code",
   "execution_count": 2,
   "metadata": {},
   "outputs": [],
   "source": [
    "import pandas as pd\n",
    "import numpy as np\n",
    "from sklearn.svm import SVC\n",
    "from sklearn.metrics import accuracy_score\n",
    "from sklearn.model_selection import GridSearchCV\n",
    "from sklearn.metrics import make_scorer\n",
    "from sklearn.preprocessing import OneHotEncoder\n",
    "from sklearn.preprocessing import LabelEncoder\n",
    "\n"
   ]
  },
  {
   "cell_type": "code",
   "execution_count": 3,
   "metadata": {},
   "outputs": [],
   "source": [
    "df_risco_train = pd.read_csv('risco_train.csv')\n"
   ]
  },
  {
   "cell_type": "code",
   "execution_count": 4,
   "metadata": {},
   "outputs": [],
   "source": [
    "df_risco_test = pd.read_csv('risco_test.csv')"
   ]
  },
  {
   "cell_type": "code",
   "execution_count": 6,
   "metadata": {},
   "outputs": [],
   "source": [
    "#df_risco_train.head()\n",
    "#df_risco_test.head()"
   ]
  },
  {
   "cell_type": "markdown",
   "metadata": {},
   "source": []
  },
  {
   "cell_type": "code",
   "execution_count": 9,
   "metadata": {},
   "outputs": [],
   "source": [
    "X = df_risco_train[['score_1','score_2','score_3','score_4','score_5', 'score_6', 'risk_rate', 'n_defaulted_loans']] \n",
    "y = df_risco_train.target_default\n",
    "#X.score_1"
   ]
  },
  {
   "cell_type": "code",
   "execution_count": 10,
   "metadata": {},
   "outputs": [
    {
     "name": "stderr",
     "output_type": "stream",
     "text": [
      "/anaconda2/envs/DataChallenge/lib/python3.6/site-packages/ipykernel_launcher.py:2: SettingWithCopyWarning: \n",
      "A value is trying to be set on a copy of a slice from a DataFrame.\n",
      "Try using .loc[row_indexer,col_indexer] = value instead\n",
      "\n",
      "See the caveats in the documentation: http://pandas.pydata.org/pandas-docs/stable/indexing.html#indexing-view-versus-copy\n",
      "  \n",
      "/anaconda2/envs/DataChallenge/lib/python3.6/site-packages/ipykernel_launcher.py:3: SettingWithCopyWarning: \n",
      "A value is trying to be set on a copy of a slice from a DataFrame.\n",
      "Try using .loc[row_indexer,col_indexer] = value instead\n",
      "\n",
      "See the caveats in the documentation: http://pandas.pydata.org/pandas-docs/stable/indexing.html#indexing-view-versus-copy\n",
      "  This is separate from the ipykernel package so we can avoid doing imports until\n"
     ]
    },
    {
     "data": {
      "text/html": [
       "<div>\n",
       "<style scoped>\n",
       "    .dataframe tbody tr th:only-of-type {\n",
       "        vertical-align: middle;\n",
       "    }\n",
       "\n",
       "    .dataframe tbody tr th {\n",
       "        vertical-align: top;\n",
       "    }\n",
       "\n",
       "    .dataframe thead th {\n",
       "        text-align: right;\n",
       "    }\n",
       "</style>\n",
       "<table border=\"1\" class=\"dataframe\">\n",
       "  <thead>\n",
       "    <tr style=\"text-align: right;\">\n",
       "      <th></th>\n",
       "      <th>score_1</th>\n",
       "      <th>score_2</th>\n",
       "      <th>score_3</th>\n",
       "      <th>score_4</th>\n",
       "      <th>score_5</th>\n",
       "      <th>score_6</th>\n",
       "      <th>risk_rate</th>\n",
       "      <th>n_defaulted_loans</th>\n",
       "    </tr>\n",
       "  </thead>\n",
       "  <tbody>\n",
       "    <tr>\n",
       "      <th>0</th>\n",
       "      <td>0</td>\n",
       "      <td>10</td>\n",
       "      <td>350.0</td>\n",
       "      <td>101.800832</td>\n",
       "      <td>0.259555</td>\n",
       "      <td>108.427273</td>\n",
       "      <td>0.40</td>\n",
       "      <td>0.0</td>\n",
       "    </tr>\n",
       "    <tr>\n",
       "      <th>1</th>\n",
       "      <td>3</td>\n",
       "      <td>16</td>\n",
       "      <td>370.0</td>\n",
       "      <td>97.062615</td>\n",
       "      <td>0.942655</td>\n",
       "      <td>92.002546</td>\n",
       "      <td>0.24</td>\n",
       "      <td>0.0</td>\n",
       "    </tr>\n",
       "    <tr>\n",
       "      <th>2</th>\n",
       "      <td>3</td>\n",
       "      <td>9</td>\n",
       "      <td>360.0</td>\n",
       "      <td>100.027073</td>\n",
       "      <td>0.351918</td>\n",
       "      <td>112.892453</td>\n",
       "      <td>0.29</td>\n",
       "      <td>0.0</td>\n",
       "    </tr>\n",
       "    <tr>\n",
       "      <th>3</th>\n",
       "      <td>0</td>\n",
       "      <td>21</td>\n",
       "      <td>510.0</td>\n",
       "      <td>101.599485</td>\n",
       "      <td>0.987673</td>\n",
       "      <td>94.902491</td>\n",
       "      <td>0.32</td>\n",
       "      <td>0.0</td>\n",
       "    </tr>\n",
       "    <tr>\n",
       "      <th>4</th>\n",
       "      <td>2</td>\n",
       "      <td>1</td>\n",
       "      <td>500.0</td>\n",
       "      <td>98.474289</td>\n",
       "      <td>0.532539</td>\n",
       "      <td>118.126207</td>\n",
       "      <td>0.18</td>\n",
       "      <td>0.0</td>\n",
       "    </tr>\n",
       "  </tbody>\n",
       "</table>\n",
       "</div>"
      ],
      "text/plain": [
       "   score_1  score_2  score_3     score_4   score_5     score_6  risk_rate  \\\n",
       "0        0       10    350.0  101.800832  0.259555  108.427273       0.40   \n",
       "1        3       16    370.0   97.062615  0.942655   92.002546       0.24   \n",
       "2        3        9    360.0  100.027073  0.351918  112.892453       0.29   \n",
       "3        0       21    510.0  101.599485  0.987673   94.902491       0.32   \n",
       "4        2        1    500.0   98.474289  0.532539  118.126207       0.18   \n",
       "\n",
       "   n_defaulted_loans  \n",
       "0                0.0  \n",
       "1                0.0  \n",
       "2                0.0  \n",
       "3                0.0  \n",
       "4                0.0  "
      ]
     },
     "execution_count": 10,
     "metadata": {},
     "output_type": "execute_result"
    }
   ],
   "source": [
    "lb = LabelEncoder()\n",
    "X['score_1'] = lb.fit_transform(X.score_1)\n",
    "X['score_2'] = lb.fit_transform(X.score_2)\n",
    "X.head()"
   ]
  },
  {
   "cell_type": "code",
   "execution_count": 11,
   "metadata": {},
   "outputs": [],
   "source": [
    "#Para otimizar o processameto diminuir a quantidade de registro \n",
    "X1 = np.asarray(X)\n",
    "y1 = np.asarray(y)\n",
    "X1 = X1[:10000,:]\n",
    "y1 = y1[:10000]\n",
    "#X1"
   ]
  },
  {
   "cell_type": "markdown",
   "metadata": {},
   "source": [
    "# SVC\n",
    "### Grid Search procurando os melhores parametros"
   ]
  },
  {
   "cell_type": "code",
   "execution_count": 8,
   "metadata": {},
   "outputs": [],
   "source": [
    "# Make an fbeta_score scoring object.\n",
    "scorer = make_scorer(accuracy_score)"
   ]
  },
  {
   "cell_type": "code",
   "execution_count": 112,
   "metadata": {},
   "outputs": [],
   "source": [
    "parameters = {'kernel':['rbf'], 'C':[.1,.4], 'gamma':[.1,.3], 'degree':[1], 'random_state':[1, 2]}\n",
    "parameters2 = {'kernel':['poly'], 'C':[.1, 1, 10], 'degree':[2,4,8] }\n",
    "\n",
    "\n",
    "grid_obj = GridSearchCV(SVC(), parameters, scoring=scorer)\n"
   ]
  },
  {
   "cell_type": "code",
   "execution_count": 113,
   "metadata": {},
   "outputs": [
    {
     "name": "stderr",
     "output_type": "stream",
     "text": [
      "/anaconda2/envs/DataChallenge/lib/python3.6/site-packages/sklearn/model_selection/_split.py:1943: FutureWarning: You should specify a value for 'cv' instead of relying on the default value. The default value will change from 3 to 5 in version 0.22.\n",
      "  warnings.warn(CV_WARNING, FutureWarning)\n"
     ]
    }
   ],
   "source": [
    "grid_fit = grid_obj.fit(X1, y1)"
   ]
  },
  {
   "cell_type": "code",
   "execution_count": 114,
   "metadata": {},
   "outputs": [],
   "source": [
    "#Get the estimator.\n",
    "best = grid_fit.best_estimator_"
   ]
  },
  {
   "cell_type": "code",
   "execution_count": 115,
   "metadata": {},
   "outputs": [
    {
     "data": {
      "text/plain": [
       "SVC(C=0.1, cache_size=200, class_weight=None, coef0=0.0,\n",
       "  decision_function_shape='ovr', degree=1, gamma=0.1, kernel='rbf',\n",
       "  max_iter=-1, probability=False, random_state=1, shrinking=True,\n",
       "  tol=0.001, verbose=False)"
      ]
     },
     "execution_count": 115,
     "metadata": {},
     "output_type": "execute_result"
    }
   ],
   "source": [
    "best"
   ]
  },
  {
   "cell_type": "code",
   "execution_count": 116,
   "metadata": {},
   "outputs": [
    {
     "data": {
      "text/plain": [
       "SVC(C=0.1, cache_size=200, class_weight=None, coef0=0.0,\n",
       "  decision_function_shape='ovr', degree=1, gamma=0.1, kernel='rbf',\n",
       "  max_iter=-1, probability=False, random_state=1, shrinking=True,\n",
       "  tol=0.001, verbose=False)"
      ]
     },
     "execution_count": 116,
     "metadata": {},
     "output_type": "execute_result"
    }
   ],
   "source": [
    "# Fit the new model.\n",
    "#Agora treinar o modelo com todos registros \n",
    "best.fit(X, y)"
   ]
  },
  {
   "cell_type": "code",
   "execution_count": 117,
   "metadata": {},
   "outputs": [],
   "source": [
    "\n",
    "# Make predictions using the new model.\n",
    "best_train_predictions = best.predict(X)\n"
   ]
  },
  {
   "cell_type": "code",
   "execution_count": 123,
   "metadata": {},
   "outputs": [],
   "source": [
    "acc = accuracy_score(y, best_train_predictions)"
   ]
  },
  {
   "cell_type": "code",
   "execution_count": 124,
   "metadata": {},
   "outputs": [
    {
     "data": {
      "text/plain": [
       "0.84042068948995"
      ]
     },
     "execution_count": 124,
     "metadata": {},
     "output_type": "execute_result"
    }
   ],
   "source": [
    "acc"
   ]
  },
  {
   "cell_type": "markdown",
   "metadata": {},
   "source": [
    "### Usar direto os paramentros já encontrado no grid search\n",
    "probability=True -> alterado para poder usar a funcao predict_proba"
   ]
  },
  {
   "cell_type": "code",
   "execution_count": 24,
   "metadata": {},
   "outputs": [],
   "source": [
    "modelo_svc = SVC(C=0.1, cache_size=200, class_weight=None, coef0=0.0,\n",
    "  decision_function_shape='ovr', degree=1, gamma=0.1, kernel='rbf',\n",
    "  max_iter=-1, probability=True, random_state=1, shrinking=True,\n",
    "  tol=0.001, verbose=False)\n"
   ]
  },
  {
   "cell_type": "code",
   "execution_count": 26,
   "metadata": {},
   "outputs": [],
   "source": [
    "modelo_svc = modelo_svc.fit(X,y)"
   ]
  },
  {
   "cell_type": "markdown",
   "metadata": {},
   "source": [
    "SVC(C=0.1, cache_size=200, class_weight=None, coef0=0.0,\n",
    "  decision_function_shape='ovr', degree=3, gamma=0.1, kernel='rbf',\n",
    "  max_iter=-1, probability=False, random_state=10, shrinking=True,\n",
    "  tol=0.001, verbose=False) \n",
    "  ### 0.84042068948995"
   ]
  },
  {
   "cell_type": "markdown",
   "metadata": {},
   "source": [
    "## Montando o arquivo test"
   ]
  },
  {
   "cell_type": "code",
   "execution_count": 133,
   "metadata": {},
   "outputs": [],
   "source": [
    "df_risco_test = pd.read_csv('risco_test.csv')\n",
    "sample_default = df_risco_test\n",
    "#sample_default.head()"
   ]
  },
  {
   "cell_type": "code",
   "execution_count": 134,
   "metadata": {},
   "outputs": [
    {
     "data": {
      "text/html": [
       "<div>\n",
       "<style scoped>\n",
       "    .dataframe tbody tr th:only-of-type {\n",
       "        vertical-align: middle;\n",
       "    }\n",
       "\n",
       "    .dataframe tbody tr th {\n",
       "        vertical-align: top;\n",
       "    }\n",
       "\n",
       "    .dataframe thead th {\n",
       "        text-align: right;\n",
       "    }\n",
       "</style>\n",
       "<table border=\"1\" class=\"dataframe\">\n",
       "  <thead>\n",
       "    <tr style=\"text-align: right;\">\n",
       "      <th></th>\n",
       "      <th>score_1</th>\n",
       "      <th>score_2</th>\n",
       "      <th>score_3</th>\n",
       "      <th>score_4</th>\n",
       "      <th>score_5</th>\n",
       "      <th>score_6</th>\n",
       "      <th>risk_rate</th>\n",
       "      <th>n_defaulted_loans</th>\n",
       "    </tr>\n",
       "  </thead>\n",
       "  <tbody>\n",
       "    <tr>\n",
       "      <th>0</th>\n",
       "      <td>7</td>\n",
       "      <td>30</td>\n",
       "      <td>710.0</td>\n",
       "      <td>104.174961</td>\n",
       "      <td>0.661509</td>\n",
       "      <td>123.015325</td>\n",
       "      <td>0.43</td>\n",
       "      <td>0.0</td>\n",
       "    </tr>\n",
       "    <tr>\n",
       "      <th>1</th>\n",
       "      <td>2</td>\n",
       "      <td>31</td>\n",
       "      <td>120.0</td>\n",
       "      <td>100.434557</td>\n",
       "      <td>0.139784</td>\n",
       "      <td>120.134718</td>\n",
       "      <td>0.15</td>\n",
       "      <td>0.0</td>\n",
       "    </tr>\n",
       "    <tr>\n",
       "      <th>2</th>\n",
       "      <td>4</td>\n",
       "      <td>10</td>\n",
       "      <td>280.0</td>\n",
       "      <td>95.399016</td>\n",
       "      <td>0.592517</td>\n",
       "      <td>101.661396</td>\n",
       "      <td>0.24</td>\n",
       "      <td>0.0</td>\n",
       "    </tr>\n",
       "    <tr>\n",
       "      <th>3</th>\n",
       "      <td>4</td>\n",
       "      <td>16</td>\n",
       "      <td>240.0</td>\n",
       "      <td>100.979281</td>\n",
       "      <td>0.588796</td>\n",
       "      <td>101.724127</td>\n",
       "      <td>0.20</td>\n",
       "      <td>0.0</td>\n",
       "    </tr>\n",
       "    <tr>\n",
       "      <th>4</th>\n",
       "      <td>3</td>\n",
       "      <td>35</td>\n",
       "      <td>430.0</td>\n",
       "      <td>101.287897</td>\n",
       "      <td>0.694936</td>\n",
       "      <td>114.951255</td>\n",
       "      <td>0.61</td>\n",
       "      <td>0.0</td>\n",
       "    </tr>\n",
       "  </tbody>\n",
       "</table>\n",
       "</div>"
      ],
      "text/plain": [
       "   score_1  score_2  score_3     score_4   score_5     score_6  risk_rate  \\\n",
       "0        7       30    710.0  104.174961  0.661509  123.015325       0.43   \n",
       "1        2       31    120.0  100.434557  0.139784  120.134718       0.15   \n",
       "2        4       10    280.0   95.399016  0.592517  101.661396       0.24   \n",
       "3        4       16    240.0  100.979281  0.588796  101.724127       0.20   \n",
       "4        3       35    430.0  101.287897  0.694936  114.951255       0.61   \n",
       "\n",
       "   n_defaulted_loans  \n",
       "0                0.0  \n",
       "1                0.0  \n",
       "2                0.0  \n",
       "3                0.0  \n",
       "4                0.0  "
      ]
     },
     "execution_count": 134,
     "metadata": {},
     "output_type": "execute_result"
    }
   ],
   "source": [
    "lb = LabelEncoder()\n",
    "sample_default['score_1'] = lb.fit_transform(sample_default['score_1'])\n",
    "sample_default['score_2'] = lb.fit_transform(sample_default['score_2'])\n",
    "\n",
    "X_test = sample_default[['score_1','score_2','score_3','score_4','score_5', 'score_6', 'risk_rate', 'n_defaulted_loans']] \n",
    "X_test.head()"
   ]
  },
  {
   "cell_type": "code",
   "execution_count": null,
   "metadata": {},
   "outputs": [],
   "source": []
  },
  {
   "cell_type": "code",
   "execution_count": 131,
   "metadata": {},
   "outputs": [
    {
     "ename": "NameError",
     "evalue": "name 'sample_default' is not defined",
     "output_type": "error",
     "traceback": [
      "\u001b[0;31m---------------------------------------------------------------------------\u001b[0m",
      "\u001b[0;31mNameError\u001b[0m                                 Traceback (most recent call last)",
      "\u001b[0;32m<ipython-input-131-b4eacd28397f>\u001b[0m in \u001b[0;36m<module>\u001b[0;34m()\u001b[0m\n\u001b[1;32m      1\u001b[0m \u001b[0;31m#separar os ids\u001b[0m\u001b[0;34m\u001b[0m\u001b[0;34m\u001b[0m\u001b[0m\n\u001b[0;32m----> 2\u001b[0;31m \u001b[0mids\u001b[0m \u001b[0;34m=\u001b[0m \u001b[0msample_default\u001b[0m\u001b[0;34m[\u001b[0m\u001b[0;34m'ids'\u001b[0m\u001b[0;34m]\u001b[0m\u001b[0;34m\u001b[0m\u001b[0m\n\u001b[0m\u001b[1;32m      3\u001b[0m \u001b[0;31m#usar o modelo validado para o df test\u001b[0m\u001b[0;34m\u001b[0m\u001b[0;34m\u001b[0m\u001b[0m\n\u001b[1;32m      4\u001b[0m \u001b[0mpredictions\u001b[0m \u001b[0;34m=\u001b[0m \u001b[0mmodelo_svc\u001b[0m\u001b[0;34m.\u001b[0m\u001b[0mpredict_proba\u001b[0m\u001b[0;34m(\u001b[0m\u001b[0mX_test\u001b[0m\u001b[0;34m)\u001b[0m\u001b[0;34m\u001b[0m\u001b[0m\n",
      "\u001b[0;31mNameError\u001b[0m: name 'sample_default' is not defined"
     ]
    }
   ],
   "source": [
    "#separar os ids \n",
    "ids = sample_default['ids']\n",
    "#usar o modelo validado para o df test\n",
    "predictions = modelo_svc.predict_proba(X_test)\n"
   ]
  },
  {
   "cell_type": "code",
   "execution_count": 39,
   "metadata": {},
   "outputs": [
    {
     "data": {
      "text/plain": [
       "array([0.83512815, 0.83525702, 0.84136763, ..., 0.8451355 , 0.8489257 ,\n",
       "       0.84718442])"
      ]
     },
     "execution_count": 39,
     "metadata": {},
     "output_type": "execute_result"
    }
   ],
   "source": [
    "predictions[:,0]"
   ]
  },
  {
   "cell_type": "code",
   "execution_count": 41,
   "metadata": {
    "collapsed": true
   },
   "outputs": [
    {
     "data": {
      "text/html": [
       "<div>\n",
       "<style scoped>\n",
       "    .dataframe tbody tr th:only-of-type {\n",
       "        vertical-align: middle;\n",
       "    }\n",
       "\n",
       "    .dataframe tbody tr th {\n",
       "        vertical-align: top;\n",
       "    }\n",
       "\n",
       "    .dataframe thead th {\n",
       "        text-align: right;\n",
       "    }\n",
       "</style>\n",
       "<table border=\"1\" class=\"dataframe\">\n",
       "  <thead>\n",
       "    <tr style=\"text-align: right;\">\n",
       "      <th></th>\n",
       "      <th>ids</th>\n",
       "      <th>default</th>\n",
       "    </tr>\n",
       "  </thead>\n",
       "  <tbody>\n",
       "    <tr>\n",
       "      <th>0</th>\n",
       "      <td>810e3277-619e-3154-7ba0-ebddfc5f7ea9</td>\n",
       "      <td>0.835128</td>\n",
       "    </tr>\n",
       "    <tr>\n",
       "      <th>1</th>\n",
       "      <td>285ce334-3602-42b3-51cb-eebfcba48a09</td>\n",
       "      <td>0.835257</td>\n",
       "    </tr>\n",
       "    <tr>\n",
       "      <th>2</th>\n",
       "      <td>08efdf0f-f8f1-b968-3452-6b634eabf43f</td>\n",
       "      <td>0.841368</td>\n",
       "    </tr>\n",
       "    <tr>\n",
       "      <th>3</th>\n",
       "      <td>c81955ef-e3fe-e40e-b8b9-916dfea3b80d</td>\n",
       "      <td>0.839393</td>\n",
       "    </tr>\n",
       "    <tr>\n",
       "      <th>4</th>\n",
       "      <td>7f93590f-4a91-aec4-5062-cb1ba2c16a84</td>\n",
       "      <td>0.842059</td>\n",
       "    </tr>\n",
       "    <tr>\n",
       "      <th>5</th>\n",
       "      <td>ac81ce99-9365-b28e-31de-996d7aaadc95</td>\n",
       "      <td>0.856910</td>\n",
       "    </tr>\n",
       "    <tr>\n",
       "      <th>6</th>\n",
       "      <td>26a68732-a660-8cf9-340d-34c88ecdcbf0</td>\n",
       "      <td>0.835332</td>\n",
       "    </tr>\n",
       "    <tr>\n",
       "      <th>7</th>\n",
       "      <td>fd228aa8-5a67-6561-4382-21c35360c01d</td>\n",
       "      <td>0.848317</td>\n",
       "    </tr>\n",
       "    <tr>\n",
       "      <th>8</th>\n",
       "      <td>083ca221-7f4e-21c7-204d-2962c3ca9c14</td>\n",
       "      <td>0.848815</td>\n",
       "    </tr>\n",
       "    <tr>\n",
       "      <th>9</th>\n",
       "      <td>d040b1f4-9224-abf5-f489-b7c2055a8177</td>\n",
       "      <td>0.823511</td>\n",
       "    </tr>\n",
       "    <tr>\n",
       "      <th>10</th>\n",
       "      <td>48f48dfe-237b-4a81-0a00-0bf2bf560f7e</td>\n",
       "      <td>0.831197</td>\n",
       "    </tr>\n",
       "    <tr>\n",
       "      <th>11</th>\n",
       "      <td>dda9894f-4d2f-75ab-b19c-fcf63a208a62</td>\n",
       "      <td>0.822274</td>\n",
       "    </tr>\n",
       "    <tr>\n",
       "      <th>12</th>\n",
       "      <td>cf611420-a427-f3b8-c850-eb20c6f47e75</td>\n",
       "      <td>0.816546</td>\n",
       "    </tr>\n",
       "    <tr>\n",
       "      <th>13</th>\n",
       "      <td>70918039-093b-c3c2-78e5-f965d60cb72f</td>\n",
       "      <td>0.855738</td>\n",
       "    </tr>\n",
       "    <tr>\n",
       "      <th>14</th>\n",
       "      <td>94806328-c58a-637b-b3f4-3f0312c5257d</td>\n",
       "      <td>0.849984</td>\n",
       "    </tr>\n",
       "    <tr>\n",
       "      <th>15</th>\n",
       "      <td>3ec4c7ed-3826-b1d7-f83a-9876a8a05cff</td>\n",
       "      <td>0.860019</td>\n",
       "    </tr>\n",
       "    <tr>\n",
       "      <th>16</th>\n",
       "      <td>4b2be04c-8550-8e1b-54d3-af788b760579</td>\n",
       "      <td>0.841687</td>\n",
       "    </tr>\n",
       "    <tr>\n",
       "      <th>17</th>\n",
       "      <td>e7cfc15f-374c-c145-c6a3-e38ca1c54f82</td>\n",
       "      <td>0.851353</td>\n",
       "    </tr>\n",
       "    <tr>\n",
       "      <th>18</th>\n",
       "      <td>531473be-0239-9ecb-3582-0e1b50612030</td>\n",
       "      <td>0.856242</td>\n",
       "    </tr>\n",
       "    <tr>\n",
       "      <th>19</th>\n",
       "      <td>2987bcec-116f-d38e-5099-42c20f1bed7a</td>\n",
       "      <td>0.835128</td>\n",
       "    </tr>\n",
       "    <tr>\n",
       "      <th>20</th>\n",
       "      <td>cbac3854-8f56-9c15-5422-9bcad1366041</td>\n",
       "      <td>0.837159</td>\n",
       "    </tr>\n",
       "    <tr>\n",
       "      <th>21</th>\n",
       "      <td>1addd039-72c1-2d05-de4f-8b8fc4002152</td>\n",
       "      <td>0.844772</td>\n",
       "    </tr>\n",
       "    <tr>\n",
       "      <th>22</th>\n",
       "      <td>f0aad0b0-8e00-b27b-9ce7-b052b3f41f9a</td>\n",
       "      <td>0.839035</td>\n",
       "    </tr>\n",
       "    <tr>\n",
       "      <th>23</th>\n",
       "      <td>3506412a-4214-344d-5b2a-5937d869b216</td>\n",
       "      <td>0.840932</td>\n",
       "    </tr>\n",
       "    <tr>\n",
       "      <th>24</th>\n",
       "      <td>7636fbf5-6dd4-f3f6-5b81-18df0ec0d3c7</td>\n",
       "      <td>0.844689</td>\n",
       "    </tr>\n",
       "    <tr>\n",
       "      <th>25</th>\n",
       "      <td>9eed0323-17b3-7b23-b73f-fcca0e1ff495</td>\n",
       "      <td>0.843702</td>\n",
       "    </tr>\n",
       "    <tr>\n",
       "      <th>26</th>\n",
       "      <td>1ee49ae0-fdce-50e6-a74c-4323c84ac1fb</td>\n",
       "      <td>0.869097</td>\n",
       "    </tr>\n",
       "    <tr>\n",
       "      <th>27</th>\n",
       "      <td>f116d5e1-f864-e8d0-a202-e0af8af0dcd2</td>\n",
       "      <td>0.838546</td>\n",
       "    </tr>\n",
       "    <tr>\n",
       "      <th>28</th>\n",
       "      <td>4a99f007-85ef-4fa3-804a-f55b8e21a0da</td>\n",
       "      <td>0.863951</td>\n",
       "    </tr>\n",
       "    <tr>\n",
       "      <th>29</th>\n",
       "      <td>27c3958f-9917-2658-eb6c-f4cfe8c83256</td>\n",
       "      <td>0.826444</td>\n",
       "    </tr>\n",
       "    <tr>\n",
       "      <th>...</th>\n",
       "      <td>...</td>\n",
       "      <td>...</td>\n",
       "    </tr>\n",
       "    <tr>\n",
       "      <th>19562</th>\n",
       "      <td>ec07fc58-3abf-7849-d5a9-a1bb75830b07</td>\n",
       "      <td>0.828543</td>\n",
       "    </tr>\n",
       "    <tr>\n",
       "      <th>19563</th>\n",
       "      <td>d4c5739e-a134-51db-4ec9-245f116f9972</td>\n",
       "      <td>0.852861</td>\n",
       "    </tr>\n",
       "    <tr>\n",
       "      <th>19564</th>\n",
       "      <td>9303484f-e07b-46be-6939-35d34636330e</td>\n",
       "      <td>0.848821</td>\n",
       "    </tr>\n",
       "    <tr>\n",
       "      <th>19565</th>\n",
       "      <td>e573d050-5f5a-c175-aa2a-53e0e58ef8d2</td>\n",
       "      <td>0.783766</td>\n",
       "    </tr>\n",
       "    <tr>\n",
       "      <th>19566</th>\n",
       "      <td>84c39234-b2b0-4eb0-7daf-927716d4a249</td>\n",
       "      <td>0.848273</td>\n",
       "    </tr>\n",
       "    <tr>\n",
       "      <th>19567</th>\n",
       "      <td>19cf4e36-38fc-e2e2-1851-b2b98c1d9f66</td>\n",
       "      <td>0.846722</td>\n",
       "    </tr>\n",
       "    <tr>\n",
       "      <th>19568</th>\n",
       "      <td>870797f4-9c55-0ff9-b516-eaf5a63217d3</td>\n",
       "      <td>0.849212</td>\n",
       "    </tr>\n",
       "    <tr>\n",
       "      <th>19569</th>\n",
       "      <td>5ad7057d-f389-ef9b-16e5-e148fe7d00f6</td>\n",
       "      <td>0.846496</td>\n",
       "    </tr>\n",
       "    <tr>\n",
       "      <th>19570</th>\n",
       "      <td>582ea3cc-10eb-ce43-21d6-eb4cc6362ec8</td>\n",
       "      <td>0.844840</td>\n",
       "    </tr>\n",
       "    <tr>\n",
       "      <th>19571</th>\n",
       "      <td>aa8e0136-74a7-396f-46fb-baeedbba5072</td>\n",
       "      <td>0.858163</td>\n",
       "    </tr>\n",
       "    <tr>\n",
       "      <th>19572</th>\n",
       "      <td>bb2a4ca7-834f-4789-4660-a31c2c4a406b</td>\n",
       "      <td>0.838139</td>\n",
       "    </tr>\n",
       "    <tr>\n",
       "      <th>19573</th>\n",
       "      <td>05e48c78-ced7-78b0-ba2f-0848f24cd9da</td>\n",
       "      <td>0.852201</td>\n",
       "    </tr>\n",
       "    <tr>\n",
       "      <th>19574</th>\n",
       "      <td>3f2a53b6-9937-c363-48e0-cdad96daed69</td>\n",
       "      <td>0.839889</td>\n",
       "    </tr>\n",
       "    <tr>\n",
       "      <th>19575</th>\n",
       "      <td>249de8ea-d928-b094-ddc6-7d2babf05610</td>\n",
       "      <td>0.820213</td>\n",
       "    </tr>\n",
       "    <tr>\n",
       "      <th>19576</th>\n",
       "      <td>23fa48cf-aa29-fec5-248a-cb45a27615bc</td>\n",
       "      <td>0.858031</td>\n",
       "    </tr>\n",
       "    <tr>\n",
       "      <th>19577</th>\n",
       "      <td>7a845139-a476-a7a1-a46b-e3f3e6612550</td>\n",
       "      <td>0.842188</td>\n",
       "    </tr>\n",
       "    <tr>\n",
       "      <th>19578</th>\n",
       "      <td>25da6fe8-46b6-b481-61ff-84b8fdc3d808</td>\n",
       "      <td>0.852532</td>\n",
       "    </tr>\n",
       "    <tr>\n",
       "      <th>19579</th>\n",
       "      <td>d385c738-559e-804f-7383-5fab854518a6</td>\n",
       "      <td>0.845722</td>\n",
       "    </tr>\n",
       "    <tr>\n",
       "      <th>19580</th>\n",
       "      <td>b7890dda-138d-2fed-d643-5a55d64b0817</td>\n",
       "      <td>0.836355</td>\n",
       "    </tr>\n",
       "    <tr>\n",
       "      <th>19581</th>\n",
       "      <td>e204008e-4117-d21b-e852-de7bf8b7164a</td>\n",
       "      <td>0.851953</td>\n",
       "    </tr>\n",
       "    <tr>\n",
       "      <th>19582</th>\n",
       "      <td>d2790c96-d77e-b2f6-0d67-e856d0e2324a</td>\n",
       "      <td>0.842628</td>\n",
       "    </tr>\n",
       "    <tr>\n",
       "      <th>19583</th>\n",
       "      <td>e70d39d4-12c8-2fce-bd1b-f442da3d65ee</td>\n",
       "      <td>0.843273</td>\n",
       "    </tr>\n",
       "    <tr>\n",
       "      <th>19584</th>\n",
       "      <td>696b2de6-6968-dc15-0428-b5473ff1db19</td>\n",
       "      <td>0.859594</td>\n",
       "    </tr>\n",
       "    <tr>\n",
       "      <th>19585</th>\n",
       "      <td>90246987-fcdd-6c10-c22a-f22a33111d13</td>\n",
       "      <td>0.837363</td>\n",
       "    </tr>\n",
       "    <tr>\n",
       "      <th>19586</th>\n",
       "      <td>c1812d2e-0b7f-a25d-6ead-eeb126aba6bf</td>\n",
       "      <td>0.848294</td>\n",
       "    </tr>\n",
       "    <tr>\n",
       "      <th>19587</th>\n",
       "      <td>c75c53db-9441-101f-82c9-3d8e80f92bd5</td>\n",
       "      <td>0.802930</td>\n",
       "    </tr>\n",
       "    <tr>\n",
       "      <th>19588</th>\n",
       "      <td>d42cd2a3-2290-bdb9-2e18-24e6dab047fa</td>\n",
       "      <td>0.827175</td>\n",
       "    </tr>\n",
       "    <tr>\n",
       "      <th>19589</th>\n",
       "      <td>5ad15091-6792-5ead-5889-c1bd5581f1f9</td>\n",
       "      <td>0.845136</td>\n",
       "    </tr>\n",
       "    <tr>\n",
       "      <th>19590</th>\n",
       "      <td>f9eb9e71-e8ca-bd7b-f7ad-2b2f2048541c</td>\n",
       "      <td>0.848926</td>\n",
       "    </tr>\n",
       "    <tr>\n",
       "      <th>19591</th>\n",
       "      <td>2e359df0-bc13-74c8-f6f9-a40d2b4d0395</td>\n",
       "      <td>0.847184</td>\n",
       "    </tr>\n",
       "  </tbody>\n",
       "</table>\n",
       "<p>19592 rows × 2 columns</p>\n",
       "</div>"
      ],
      "text/plain": [
       "                                        ids   default\n",
       "0      810e3277-619e-3154-7ba0-ebddfc5f7ea9  0.835128\n",
       "1      285ce334-3602-42b3-51cb-eebfcba48a09  0.835257\n",
       "2      08efdf0f-f8f1-b968-3452-6b634eabf43f  0.841368\n",
       "3      c81955ef-e3fe-e40e-b8b9-916dfea3b80d  0.839393\n",
       "4      7f93590f-4a91-aec4-5062-cb1ba2c16a84  0.842059\n",
       "5      ac81ce99-9365-b28e-31de-996d7aaadc95  0.856910\n",
       "6      26a68732-a660-8cf9-340d-34c88ecdcbf0  0.835332\n",
       "7      fd228aa8-5a67-6561-4382-21c35360c01d  0.848317\n",
       "8      083ca221-7f4e-21c7-204d-2962c3ca9c14  0.848815\n",
       "9      d040b1f4-9224-abf5-f489-b7c2055a8177  0.823511\n",
       "10     48f48dfe-237b-4a81-0a00-0bf2bf560f7e  0.831197\n",
       "11     dda9894f-4d2f-75ab-b19c-fcf63a208a62  0.822274\n",
       "12     cf611420-a427-f3b8-c850-eb20c6f47e75  0.816546\n",
       "13     70918039-093b-c3c2-78e5-f965d60cb72f  0.855738\n",
       "14     94806328-c58a-637b-b3f4-3f0312c5257d  0.849984\n",
       "15     3ec4c7ed-3826-b1d7-f83a-9876a8a05cff  0.860019\n",
       "16     4b2be04c-8550-8e1b-54d3-af788b760579  0.841687\n",
       "17     e7cfc15f-374c-c145-c6a3-e38ca1c54f82  0.851353\n",
       "18     531473be-0239-9ecb-3582-0e1b50612030  0.856242\n",
       "19     2987bcec-116f-d38e-5099-42c20f1bed7a  0.835128\n",
       "20     cbac3854-8f56-9c15-5422-9bcad1366041  0.837159\n",
       "21     1addd039-72c1-2d05-de4f-8b8fc4002152  0.844772\n",
       "22     f0aad0b0-8e00-b27b-9ce7-b052b3f41f9a  0.839035\n",
       "23     3506412a-4214-344d-5b2a-5937d869b216  0.840932\n",
       "24     7636fbf5-6dd4-f3f6-5b81-18df0ec0d3c7  0.844689\n",
       "25     9eed0323-17b3-7b23-b73f-fcca0e1ff495  0.843702\n",
       "26     1ee49ae0-fdce-50e6-a74c-4323c84ac1fb  0.869097\n",
       "27     f116d5e1-f864-e8d0-a202-e0af8af0dcd2  0.838546\n",
       "28     4a99f007-85ef-4fa3-804a-f55b8e21a0da  0.863951\n",
       "29     27c3958f-9917-2658-eb6c-f4cfe8c83256  0.826444\n",
       "...                                     ...       ...\n",
       "19562  ec07fc58-3abf-7849-d5a9-a1bb75830b07  0.828543\n",
       "19563  d4c5739e-a134-51db-4ec9-245f116f9972  0.852861\n",
       "19564  9303484f-e07b-46be-6939-35d34636330e  0.848821\n",
       "19565  e573d050-5f5a-c175-aa2a-53e0e58ef8d2  0.783766\n",
       "19566  84c39234-b2b0-4eb0-7daf-927716d4a249  0.848273\n",
       "19567  19cf4e36-38fc-e2e2-1851-b2b98c1d9f66  0.846722\n",
       "19568  870797f4-9c55-0ff9-b516-eaf5a63217d3  0.849212\n",
       "19569  5ad7057d-f389-ef9b-16e5-e148fe7d00f6  0.846496\n",
       "19570  582ea3cc-10eb-ce43-21d6-eb4cc6362ec8  0.844840\n",
       "19571  aa8e0136-74a7-396f-46fb-baeedbba5072  0.858163\n",
       "19572  bb2a4ca7-834f-4789-4660-a31c2c4a406b  0.838139\n",
       "19573  05e48c78-ced7-78b0-ba2f-0848f24cd9da  0.852201\n",
       "19574  3f2a53b6-9937-c363-48e0-cdad96daed69  0.839889\n",
       "19575  249de8ea-d928-b094-ddc6-7d2babf05610  0.820213\n",
       "19576  23fa48cf-aa29-fec5-248a-cb45a27615bc  0.858031\n",
       "19577  7a845139-a476-a7a1-a46b-e3f3e6612550  0.842188\n",
       "19578  25da6fe8-46b6-b481-61ff-84b8fdc3d808  0.852532\n",
       "19579  d385c738-559e-804f-7383-5fab854518a6  0.845722\n",
       "19580  b7890dda-138d-2fed-d643-5a55d64b0817  0.836355\n",
       "19581  e204008e-4117-d21b-e852-de7bf8b7164a  0.851953\n",
       "19582  d2790c96-d77e-b2f6-0d67-e856d0e2324a  0.842628\n",
       "19583  e70d39d4-12c8-2fce-bd1b-f442da3d65ee  0.843273\n",
       "19584  696b2de6-6968-dc15-0428-b5473ff1db19  0.859594\n",
       "19585  90246987-fcdd-6c10-c22a-f22a33111d13  0.837363\n",
       "19586  c1812d2e-0b7f-a25d-6ead-eeb126aba6bf  0.848294\n",
       "19587  c75c53db-9441-101f-82c9-3d8e80f92bd5  0.802930\n",
       "19588  d42cd2a3-2290-bdb9-2e18-24e6dab047fa  0.827175\n",
       "19589  5ad15091-6792-5ead-5889-c1bd5581f1f9  0.845136\n",
       "19590  f9eb9e71-e8ca-bd7b-f7ad-2b2f2048541c  0.848926\n",
       "19591  2e359df0-bc13-74c8-f6f9-a40d2b4d0395  0.847184\n",
       "\n",
       "[19592 rows x 2 columns]"
      ]
     },
     "execution_count": 41,
     "metadata": {},
     "output_type": "execute_result"
    }
   ],
   "source": [
    "#salvar o arquivo \n",
    "output = pd.DataFrame({ 'ids' : ids, 'default': predictions[:,0]})\n",
    "output"
   ]
  },
  {
   "cell_type": "code",
   "execution_count": 42,
   "metadata": {},
   "outputs": [],
   "source": [
    "#output.to_csv('default_submission.csv')"
   ]
  },
  {
   "cell_type": "markdown",
   "metadata": {},
   "source": [
    "## Arvore de decisao "
   ]
  },
  {
   "cell_type": "code",
   "execution_count": 5,
   "metadata": {},
   "outputs": [],
   "source": [
    "from sklearn.tree import DecisionTreeClassifier\n"
   ]
  },
  {
   "cell_type": "code",
   "execution_count": 6,
   "metadata": {},
   "outputs": [],
   "source": [
    "model = DecisionTreeClassifier()"
   ]
  },
  {
   "cell_type": "code",
   "execution_count": 122,
   "metadata": {},
   "outputs": [],
   "source": [
    "parametros= {'max_depth':[20], 'min_samples_leaf': [20, 40], 'min_samples_split':[2,4],'random_state':[1,10,40,100]}\n",
    "grid_obj_t = GridSearchCV(model, parametros, scoring=scorer)"
   ]
  },
  {
   "cell_type": "code",
   "execution_count": 123,
   "metadata": {},
   "outputs": [
    {
     "name": "stderr",
     "output_type": "stream",
     "text": [
      "/anaconda2/envs/DataChallenge/lib/python3.6/site-packages/sklearn/model_selection/_split.py:1943: FutureWarning: You should specify a value for 'cv' instead of relying on the default value. The default value will change from 3 to 5 in version 0.22.\n",
      "  warnings.warn(CV_WARNING, FutureWarning)\n"
     ]
    }
   ],
   "source": [
    "best_gridt = grid_obj_t.fit(X,y)"
   ]
  },
  {
   "cell_type": "code",
   "execution_count": 124,
   "metadata": {},
   "outputs": [],
   "source": [
    "# TODO: Get the estimator.\n",
    "best_t = best_gridt.best_estimator_"
   ]
  },
  {
   "cell_type": "code",
   "execution_count": 125,
   "metadata": {},
   "outputs": [
    {
     "data": {
      "text/plain": [
       "DecisionTreeClassifier(class_weight=None, criterion='gini', max_depth=20,\n",
       "            max_features=None, max_leaf_nodes=None,\n",
       "            min_impurity_decrease=0.0, min_impurity_split=None,\n",
       "            min_samples_leaf=40, min_samples_split=2,\n",
       "            min_weight_fraction_leaf=0.0, presort=False, random_state=10,\n",
       "            splitter='best')"
      ]
     },
     "execution_count": 125,
     "metadata": {},
     "output_type": "execute_result"
    }
   ],
   "source": [
    "best_t"
   ]
  },
  {
   "cell_type": "code",
   "execution_count": 126,
   "metadata": {},
   "outputs": [],
   "source": [
    "# TODO: Make predictions. Store them in the variable y_pred.\n",
    "y_pred_t = best_t.predict(X)"
   ]
  },
  {
   "cell_type": "code",
   "execution_count": 127,
   "metadata": {},
   "outputs": [
    {
     "data": {
      "text/plain": [
       "0.8427205864737308"
      ]
     },
     "execution_count": 127,
     "metadata": {},
     "output_type": "execute_result"
    }
   ],
   "source": [
    "\n",
    "# TODO: Calculate the accuracy and assign it to the variable acc.\n",
    "accT = accuracy_score(y, y_pred_t)\n",
    "accT"
   ]
  },
  {
   "cell_type": "markdown",
   "metadata": {},
   "source": [
    "DecisionTreeClassifier(class_weight=None, criterion='gini', max_depth=20,\n",
    "            max_features=None, max_leaf_nodes=None,\n",
    "            min_impurity_decrease=0.0, min_impurity_split=None,\n",
    "            min_samples_leaf=40, min_samples_split=2,\n",
    "            min_weight_fraction_leaf=0.0, presort=False, random_state=10,\n",
    "            splitter='best')\n",
    "            \n",
    "## 0.8427205864737308\n",
    "\n",
    "Como foi o modelo que mais teve acuracia foi o escolhido \n"
   ]
  },
  {
   "cell_type": "code",
   "execution_count": 135,
   "metadata": {},
   "outputs": [],
   "source": [
    "#separar os ids \n",
    "ids = sample_default['ids']\n",
    "#usar o modelo validado para o df test\n",
    "predictions_t = best_t.predict_proba(X_test)\n"
   ]
  },
  {
   "cell_type": "code",
   "execution_count": 138,
   "metadata": {},
   "outputs": [
    {
     "data": {
      "text/html": [
       "<div>\n",
       "<style scoped>\n",
       "    .dataframe tbody tr th:only-of-type {\n",
       "        vertical-align: middle;\n",
       "    }\n",
       "\n",
       "    .dataframe tbody tr th {\n",
       "        vertical-align: top;\n",
       "    }\n",
       "\n",
       "    .dataframe thead th {\n",
       "        text-align: right;\n",
       "    }\n",
       "</style>\n",
       "<table border=\"1\" class=\"dataframe\">\n",
       "  <thead>\n",
       "    <tr style=\"text-align: right;\">\n",
       "      <th></th>\n",
       "      <th>ids</th>\n",
       "      <th>default</th>\n",
       "    </tr>\n",
       "  </thead>\n",
       "  <tbody>\n",
       "    <tr>\n",
       "      <th>0</th>\n",
       "      <td>810e3277-619e-3154-7ba0-ebddfc5f7ea9</td>\n",
       "      <td>0.794521</td>\n",
       "    </tr>\n",
       "    <tr>\n",
       "      <th>1</th>\n",
       "      <td>285ce334-3602-42b3-51cb-eebfcba48a09</td>\n",
       "      <td>0.742424</td>\n",
       "    </tr>\n",
       "    <tr>\n",
       "      <th>2</th>\n",
       "      <td>08efdf0f-f8f1-b968-3452-6b634eabf43f</td>\n",
       "      <td>0.551724</td>\n",
       "    </tr>\n",
       "    <tr>\n",
       "      <th>3</th>\n",
       "      <td>c81955ef-e3fe-e40e-b8b9-916dfea3b80d</td>\n",
       "      <td>0.685185</td>\n",
       "    </tr>\n",
       "    <tr>\n",
       "      <th>4</th>\n",
       "      <td>7f93590f-4a91-aec4-5062-cb1ba2c16a84</td>\n",
       "      <td>0.804348</td>\n",
       "    </tr>\n",
       "  </tbody>\n",
       "</table>\n",
       "</div>"
      ],
      "text/plain": [
       "                                    ids   default\n",
       "0  810e3277-619e-3154-7ba0-ebddfc5f7ea9  0.794521\n",
       "1  285ce334-3602-42b3-51cb-eebfcba48a09  0.742424\n",
       "2  08efdf0f-f8f1-b968-3452-6b634eabf43f  0.551724\n",
       "3  c81955ef-e3fe-e40e-b8b9-916dfea3b80d  0.685185\n",
       "4  7f93590f-4a91-aec4-5062-cb1ba2c16a84  0.804348"
      ]
     },
     "execution_count": 138,
     "metadata": {},
     "output_type": "execute_result"
    }
   ],
   "source": [
    "#salvar o arquivo \n",
    "output = pd.DataFrame({ 'ids' : ids, 'default': predictions_t[:,0]})\n",
    "output.head()"
   ]
  },
  {
   "cell_type": "code",
   "execution_count": 139,
   "metadata": {},
   "outputs": [],
   "source": [
    "output.to_csv('default_submission.csv')"
   ]
  },
  {
   "cell_type": "markdown",
   "metadata": {},
   "source": [
    "# Regressao Linear "
   ]
  },
  {
   "cell_type": "code",
   "execution_count": 64,
   "metadata": {},
   "outputs": [],
   "source": [
    "from sklearn.linear_model import LinearRegression\n",
    "from sklearn.datasets import load_boston\n",
    "from sklearn.model_selection import train_test_split\n",
    "from sklearn.metrics import f1_score, make_scorer\n",
    "from sklearn.tree import DecisionTreeClassifier\n"
   ]
  },
  {
   "cell_type": "code",
   "execution_count": 61,
   "metadata": {},
   "outputs": [
    {
     "name": "stderr",
     "output_type": "stream",
     "text": [
      "/anaconda2/envs/DataChallenge/lib/python3.6/site-packages/sklearn/linear_model/base.py:485: RuntimeWarning: internal gelsd driver lwork query error, required iwork dimension not returned. This is likely the result of LAPACK bug 0038, fixed in LAPACK 3.2.2 (released July 21, 2010). Falling back to 'gelss' driver.\n",
      "  linalg.lstsq(X, y)\n"
     ]
    },
    {
     "data": {
      "text/plain": [
       "LinearRegression(copy_X=True, fit_intercept=True, n_jobs=None,\n",
       "         normalize=False)"
      ]
     },
     "execution_count": 61,
     "metadata": {},
     "output_type": "execute_result"
    }
   ],
   "source": [
    "model = LinearRegression()\n",
    "model.fit(X, y)"
   ]
  },
  {
   "cell_type": "code",
   "execution_count": 62,
   "metadata": {},
   "outputs": [],
   "source": [
    "prediction = model.predict(X)"
   ]
  },
  {
   "cell_type": "code",
   "execution_count": 63,
   "metadata": {},
   "outputs": [
    {
     "data": {
      "text/plain": [
       "0.836"
      ]
     },
     "execution_count": 63,
     "metadata": {},
     "output_type": "execute_result"
    }
   ],
   "source": [
    "accL = accuracy_score(y1, y_pred_t)\n",
    "accL"
   ]
  },
  {
   "cell_type": "code",
   "execution_count": null,
   "metadata": {},
   "outputs": [],
   "source": []
  },
  {
   "cell_type": "markdown",
   "metadata": {},
   "source": [
    "# Arvore de decisao"
   ]
  }
 ],
 "metadata": {
  "kernelspec": {
   "display_name": "Python 3",
   "language": "python",
   "name": "python3"
  },
  "language_info": {
   "codemirror_mode": {
    "name": "ipython",
    "version": 3
   },
   "file_extension": ".py",
   "mimetype": "text/x-python",
   "name": "python",
   "nbconvert_exporter": "python",
   "pygments_lexer": "ipython3",
   "version": "3.6.6"
  }
 },
 "nbformat": 4,
 "nbformat_minor": 2
}
